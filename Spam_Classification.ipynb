{
  "nbformat": 4,
  "nbformat_minor": 0,
  "metadata": {
    "colab": {
      "provenance": [],
      "authorship_tag": "ABX9TyM6OFi94MNyK4D2wHD92knO",
      "include_colab_link": true
    },
    "kernelspec": {
      "name": "python3",
      "display_name": "Python 3"
    },
    "language_info": {
      "name": "python"
    }
  },
  "cells": [
    {
      "cell_type": "markdown",
      "metadata": {
        "id": "view-in-github",
        "colab_type": "text"
      },
      "source": [
        "<a href=\"https://colab.research.google.com/github/aditya02shah/NLP/blob/main/Spam_Classification.ipynb\" target=\"_parent\"><img src=\"https://colab.research.google.com/assets/colab-badge.svg\" alt=\"Open In Colab\"/></a>"
      ]
    },
    {
      "cell_type": "markdown",
      "source": [],
      "metadata": {
        "id": "H8LljLpfrVTw"
      }
    },
    {
      "cell_type": "code",
      "source": [
        "import os\n",
        "os.environ['KAGGLE_USERNAME']=\"aditya02shah\"\n",
        "os.environ['KAGGLE_KEY']=\"37c5811662f9c729a6a12acf09bc817f\"\n",
        "!kaggle datasets download -d chandramoulinaidu/spam-classification-for-basic-nlp"
      ],
      "metadata": {
        "colab": {
          "base_uri": "https://localhost:8080/"
        },
        "id": "tYo-9aofrVuZ",
        "outputId": "b4f5830d-00af-4897-c0f1-bc5c1f5ab246"
      },
      "execution_count": 1,
      "outputs": [
        {
          "output_type": "stream",
          "name": "stdout",
          "text": [
            "Downloading spam-classification-for-basic-nlp.zip to /content\n",
            "\r  0% 0.00/5.69M [00:00<?, ?B/s]\r 88% 5.00M/5.69M [00:00<00:00, 45.4MB/s]\n",
            "\r100% 5.69M/5.69M [00:00<00:00, 50.1MB/s]\n"
          ]
        }
      ]
    },
    {
      "cell_type": "code",
      "source": [
        "import pandas as pd\n",
        "import numpy as np"
      ],
      "metadata": {
        "id": "VZUYytRLraXP"
      },
      "execution_count": 2,
      "outputs": []
    },
    {
      "cell_type": "code",
      "source": [
        "df=pd.read_csv(\"/content/spam-classification-for-basic-nlp.zip\")"
      ],
      "metadata": {
        "id": "PkQT49VNrdDy"
      },
      "execution_count": 3,
      "outputs": []
    },
    {
      "cell_type": "code",
      "source": [
        "df.head(5)"
      ],
      "metadata": {
        "colab": {
          "base_uri": "https://localhost:8080/",
          "height": 206
        },
        "id": "AKcawLp5ryoJ",
        "outputId": "2acc7848-3482-4f23-909a-6ab01997d25b"
      },
      "execution_count": 4,
      "outputs": [
        {
          "output_type": "execute_result",
          "data": {
            "text/plain": [
              "   CATEGORY                                            MESSAGE  \\\n",
              "0         1  Dear Homeowner,\\n\\n \\n\\nInterest Rates are at ...   \n",
              "1         1  ATTENTION: This is a MUST for ALL Computer Use...   \n",
              "2         1  This is a multi-part message in MIME format.\\n...   \n",
              "3         1  IMPORTANT INFORMATION:\\n\\n\\n\\nThe new domain n...   \n",
              "4         1  This is the bottom line.  If you can GIVE AWAY...   \n",
              "\n",
              "                                FILE_NAME  \n",
              "0  00249.5f45607c1bffe89f60ba1ec9f878039a  \n",
              "1  00373.ebe8670ac56b04125c25100a36ab0510  \n",
              "2  00214.1367039e50dc6b7adb0f2aa8aba83216  \n",
              "3  00210.050ffd105bd4e006771ee63cabc59978  \n",
              "4  00033.9babb58d9298daa2963d4f514193d7d6  "
            ],
            "text/html": [
              "\n",
              "\n",
              "  <div id=\"df-a999eaac-0a0d-4712-a5e1-d4f8b0317f0c\">\n",
              "    <div class=\"colab-df-container\">\n",
              "      <div>\n",
              "<style scoped>\n",
              "    .dataframe tbody tr th:only-of-type {\n",
              "        vertical-align: middle;\n",
              "    }\n",
              "\n",
              "    .dataframe tbody tr th {\n",
              "        vertical-align: top;\n",
              "    }\n",
              "\n",
              "    .dataframe thead th {\n",
              "        text-align: right;\n",
              "    }\n",
              "</style>\n",
              "<table border=\"1\" class=\"dataframe\">\n",
              "  <thead>\n",
              "    <tr style=\"text-align: right;\">\n",
              "      <th></th>\n",
              "      <th>CATEGORY</th>\n",
              "      <th>MESSAGE</th>\n",
              "      <th>FILE_NAME</th>\n",
              "    </tr>\n",
              "  </thead>\n",
              "  <tbody>\n",
              "    <tr>\n",
              "      <th>0</th>\n",
              "      <td>1</td>\n",
              "      <td>Dear Homeowner,\\n\\n \\n\\nInterest Rates are at ...</td>\n",
              "      <td>00249.5f45607c1bffe89f60ba1ec9f878039a</td>\n",
              "    </tr>\n",
              "    <tr>\n",
              "      <th>1</th>\n",
              "      <td>1</td>\n",
              "      <td>ATTENTION: This is a MUST for ALL Computer Use...</td>\n",
              "      <td>00373.ebe8670ac56b04125c25100a36ab0510</td>\n",
              "    </tr>\n",
              "    <tr>\n",
              "      <th>2</th>\n",
              "      <td>1</td>\n",
              "      <td>This is a multi-part message in MIME format.\\n...</td>\n",
              "      <td>00214.1367039e50dc6b7adb0f2aa8aba83216</td>\n",
              "    </tr>\n",
              "    <tr>\n",
              "      <th>3</th>\n",
              "      <td>1</td>\n",
              "      <td>IMPORTANT INFORMATION:\\n\\n\\n\\nThe new domain n...</td>\n",
              "      <td>00210.050ffd105bd4e006771ee63cabc59978</td>\n",
              "    </tr>\n",
              "    <tr>\n",
              "      <th>4</th>\n",
              "      <td>1</td>\n",
              "      <td>This is the bottom line.  If you can GIVE AWAY...</td>\n",
              "      <td>00033.9babb58d9298daa2963d4f514193d7d6</td>\n",
              "    </tr>\n",
              "  </tbody>\n",
              "</table>\n",
              "</div>\n",
              "      <button class=\"colab-df-convert\" onclick=\"convertToInteractive('df-a999eaac-0a0d-4712-a5e1-d4f8b0317f0c')\"\n",
              "              title=\"Convert this dataframe to an interactive table.\"\n",
              "              style=\"display:none;\">\n",
              "\n",
              "  <svg xmlns=\"http://www.w3.org/2000/svg\" height=\"24px\"viewBox=\"0 0 24 24\"\n",
              "       width=\"24px\">\n",
              "    <path d=\"M0 0h24v24H0V0z\" fill=\"none\"/>\n",
              "    <path d=\"M18.56 5.44l.94 2.06.94-2.06 2.06-.94-2.06-.94-.94-2.06-.94 2.06-2.06.94zm-11 1L8.5 8.5l.94-2.06 2.06-.94-2.06-.94L8.5 2.5l-.94 2.06-2.06.94zm10 10l.94 2.06.94-2.06 2.06-.94-2.06-.94-.94-2.06-.94 2.06-2.06.94z\"/><path d=\"M17.41 7.96l-1.37-1.37c-.4-.4-.92-.59-1.43-.59-.52 0-1.04.2-1.43.59L10.3 9.45l-7.72 7.72c-.78.78-.78 2.05 0 2.83L4 21.41c.39.39.9.59 1.41.59.51 0 1.02-.2 1.41-.59l7.78-7.78 2.81-2.81c.8-.78.8-2.07 0-2.86zM5.41 20L4 18.59l7.72-7.72 1.47 1.35L5.41 20z\"/>\n",
              "  </svg>\n",
              "      </button>\n",
              "\n",
              "\n",
              "\n",
              "    <div id=\"df-58bf4094-d29d-46c2-9328-c40ac0e165e1\">\n",
              "      <button class=\"colab-df-quickchart\" onclick=\"quickchart('df-58bf4094-d29d-46c2-9328-c40ac0e165e1')\"\n",
              "              title=\"Suggest charts.\"\n",
              "              style=\"display:none;\">\n",
              "\n",
              "<svg xmlns=\"http://www.w3.org/2000/svg\" height=\"24px\"viewBox=\"0 0 24 24\"\n",
              "     width=\"24px\">\n",
              "    <g>\n",
              "        <path d=\"M19 3H5c-1.1 0-2 .9-2 2v14c0 1.1.9 2 2 2h14c1.1 0 2-.9 2-2V5c0-1.1-.9-2-2-2zM9 17H7v-7h2v7zm4 0h-2V7h2v10zm4 0h-2v-4h2v4z\"/>\n",
              "    </g>\n",
              "</svg>\n",
              "      </button>\n",
              "    </div>\n",
              "\n",
              "<style>\n",
              "  .colab-df-quickchart {\n",
              "    background-color: #E8F0FE;\n",
              "    border: none;\n",
              "    border-radius: 50%;\n",
              "    cursor: pointer;\n",
              "    display: none;\n",
              "    fill: #1967D2;\n",
              "    height: 32px;\n",
              "    padding: 0 0 0 0;\n",
              "    width: 32px;\n",
              "  }\n",
              "\n",
              "  .colab-df-quickchart:hover {\n",
              "    background-color: #E2EBFA;\n",
              "    box-shadow: 0px 1px 2px rgba(60, 64, 67, 0.3), 0px 1px 3px 1px rgba(60, 64, 67, 0.15);\n",
              "    fill: #174EA6;\n",
              "  }\n",
              "\n",
              "  [theme=dark] .colab-df-quickchart {\n",
              "    background-color: #3B4455;\n",
              "    fill: #D2E3FC;\n",
              "  }\n",
              "\n",
              "  [theme=dark] .colab-df-quickchart:hover {\n",
              "    background-color: #434B5C;\n",
              "    box-shadow: 0px 1px 3px 1px rgba(0, 0, 0, 0.15);\n",
              "    filter: drop-shadow(0px 1px 2px rgba(0, 0, 0, 0.3));\n",
              "    fill: #FFFFFF;\n",
              "  }\n",
              "</style>\n",
              "\n",
              "    <script>\n",
              "      async function quickchart(key) {\n",
              "        const containerElement = document.querySelector('#' + key);\n",
              "        const charts = await google.colab.kernel.invokeFunction(\n",
              "            'suggestCharts', [key], {});\n",
              "      }\n",
              "    </script>\n",
              "\n",
              "      <script>\n",
              "\n",
              "function displayQuickchartButton(domScope) {\n",
              "  let quickchartButtonEl =\n",
              "    domScope.querySelector('#df-58bf4094-d29d-46c2-9328-c40ac0e165e1 button.colab-df-quickchart');\n",
              "  quickchartButtonEl.style.display =\n",
              "    google.colab.kernel.accessAllowed ? 'block' : 'none';\n",
              "}\n",
              "\n",
              "        displayQuickchartButton(document);\n",
              "      </script>\n",
              "      <style>\n",
              "    .colab-df-container {\n",
              "      display:flex;\n",
              "      flex-wrap:wrap;\n",
              "      gap: 12px;\n",
              "    }\n",
              "\n",
              "    .colab-df-convert {\n",
              "      background-color: #E8F0FE;\n",
              "      border: none;\n",
              "      border-radius: 50%;\n",
              "      cursor: pointer;\n",
              "      display: none;\n",
              "      fill: #1967D2;\n",
              "      height: 32px;\n",
              "      padding: 0 0 0 0;\n",
              "      width: 32px;\n",
              "    }\n",
              "\n",
              "    .colab-df-convert:hover {\n",
              "      background-color: #E2EBFA;\n",
              "      box-shadow: 0px 1px 2px rgba(60, 64, 67, 0.3), 0px 1px 3px 1px rgba(60, 64, 67, 0.15);\n",
              "      fill: #174EA6;\n",
              "    }\n",
              "\n",
              "    [theme=dark] .colab-df-convert {\n",
              "      background-color: #3B4455;\n",
              "      fill: #D2E3FC;\n",
              "    }\n",
              "\n",
              "    [theme=dark] .colab-df-convert:hover {\n",
              "      background-color: #434B5C;\n",
              "      box-shadow: 0px 1px 3px 1px rgba(0, 0, 0, 0.15);\n",
              "      filter: drop-shadow(0px 1px 2px rgba(0, 0, 0, 0.3));\n",
              "      fill: #FFFFFF;\n",
              "    }\n",
              "  </style>\n",
              "\n",
              "      <script>\n",
              "        const buttonEl =\n",
              "          document.querySelector('#df-a999eaac-0a0d-4712-a5e1-d4f8b0317f0c button.colab-df-convert');\n",
              "        buttonEl.style.display =\n",
              "          google.colab.kernel.accessAllowed ? 'block' : 'none';\n",
              "\n",
              "        async function convertToInteractive(key) {\n",
              "          const element = document.querySelector('#df-a999eaac-0a0d-4712-a5e1-d4f8b0317f0c');\n",
              "          const dataTable =\n",
              "            await google.colab.kernel.invokeFunction('convertToInteractive',\n",
              "                                                     [key], {});\n",
              "          if (!dataTable) return;\n",
              "\n",
              "          const docLinkHtml = 'Like what you see? Visit the ' +\n",
              "            '<a target=\"_blank\" href=https://colab.research.google.com/notebooks/data_table.ipynb>data table notebook</a>'\n",
              "            + ' to learn more about interactive tables.';\n",
              "          element.innerHTML = '';\n",
              "          dataTable['output_type'] = 'display_data';\n",
              "          await google.colab.output.renderOutput(dataTable, element);\n",
              "          const docLink = document.createElement('div');\n",
              "          docLink.innerHTML = docLinkHtml;\n",
              "          element.appendChild(docLink);\n",
              "        }\n",
              "      </script>\n",
              "    </div>\n",
              "  </div>\n"
            ]
          },
          "metadata": {},
          "execution_count": 4
        }
      ]
    },
    {
      "cell_type": "code",
      "source": [
        "len(df)"
      ],
      "metadata": {
        "colab": {
          "base_uri": "https://localhost:8080/"
        },
        "id": "3secN2alsKAd",
        "outputId": "d412c3ae-0538-4e10-d4ab-e5735eb0c401"
      },
      "execution_count": 5,
      "outputs": [
        {
          "output_type": "execute_result",
          "data": {
            "text/plain": [
              "5796"
            ]
          },
          "metadata": {},
          "execution_count": 5
        }
      ]
    },
    {
      "cell_type": "code",
      "source": [
        "df['CATEGORY']"
      ],
      "metadata": {
        "colab": {
          "base_uri": "https://localhost:8080/"
        },
        "id": "GCoBrje7r2Ur",
        "outputId": "022bc02d-5452-40dd-ac34-3e955bc3abaa"
      },
      "execution_count": 6,
      "outputs": [
        {
          "output_type": "execute_result",
          "data": {
            "text/plain": [
              "0       1\n",
              "1       1\n",
              "2       1\n",
              "3       1\n",
              "4       1\n",
              "       ..\n",
              "5791    0\n",
              "5792    0\n",
              "5793    0\n",
              "5794    0\n",
              "5795    0\n",
              "Name: CATEGORY, Length: 5796, dtype: int64"
            ]
          },
          "metadata": {},
          "execution_count": 6
        }
      ]
    },
    {
      "cell_type": "code",
      "source": [
        "print(\"Number of Spam Emails:\",len(df[df['CATEGORY']==1]))"
      ],
      "metadata": {
        "colab": {
          "base_uri": "https://localhost:8080/"
        },
        "id": "bqbPVbVzr9u9",
        "outputId": "7dbf192d-2cb2-45a9-8e9a-4ce7cab6dd03"
      },
      "execution_count": 7,
      "outputs": [
        {
          "output_type": "stream",
          "name": "stdout",
          "text": [
            "Number of Spam Emails: 1896\n"
          ]
        }
      ]
    },
    {
      "cell_type": "code",
      "source": [
        "print(\"Number of Legitimate Emails:\",len(df[df['CATEGORY']==0]))"
      ],
      "metadata": {
        "colab": {
          "base_uri": "https://localhost:8080/"
        },
        "id": "jeLVzanQtC7N",
        "outputId": "671e104d-114e-4b24-ce45-9f806a29bbd2"
      },
      "execution_count": 8,
      "outputs": [
        {
          "output_type": "stream",
          "name": "stdout",
          "text": [
            "Number of Legitimate Emails: 3900\n"
          ]
        }
      ]
    },
    {
      "cell_type": "code",
      "source": [
        "import nltk\n",
        "from nltk.corpus import wordnet\n",
        "from nltk.corpus import stopwords"
      ],
      "metadata": {
        "id": "V9SEE2_Mt9KO"
      },
      "execution_count": 9,
      "outputs": []
    },
    {
      "cell_type": "code",
      "source": [
        "tokenizer = nltk.RegexpTokenizer(r\"\\w+\")"
      ],
      "metadata": {
        "id": "qmvdo1L9vB_F"
      },
      "execution_count": 10,
      "outputs": []
    },
    {
      "cell_type": "code",
      "source": [
        "demo_msg=\"##Thiss_is/*not spam\"\n",
        "print(\"Original Message: \",demo_msg)\n",
        "demo_msg=tokenizer.tokenize(demo_msg)\n",
        "print(\"Tokenized Message: \",demo_msg)"
      ],
      "metadata": {
        "colab": {
          "base_uri": "https://localhost:8080/"
        },
        "id": "58HcaaAluI6s",
        "outputId": "b4569a3e-5caa-4607-a711-bf78cacd3b25"
      },
      "execution_count": 11,
      "outputs": [
        {
          "output_type": "stream",
          "name": "stdout",
          "text": [
            "Original Message:  ##Thiss_is/*not spam\n",
            "Tokenized Message:  ['Thiss_is', 'not', 'spam']\n"
          ]
        }
      ]
    },
    {
      "cell_type": "code",
      "source": [
        "def lower_msg(msg):\n",
        "  list1=[]\n",
        "  for word in msg:\n",
        "    l1=\"\"\n",
        "    for letter in word:\n",
        "      l1+=letter.lower()\n",
        "    list1.append(l1)\n",
        "  return list1\n",
        "\n",
        "list1=lower_msg(demo_msg)"
      ],
      "metadata": {
        "id": "IVV6HKgxvlrd"
      },
      "execution_count": 12,
      "outputs": []
    },
    {
      "cell_type": "code",
      "source": [
        "list1"
      ],
      "metadata": {
        "colab": {
          "base_uri": "https://localhost:8080/"
        },
        "id": "WeMYPbySx3yd",
        "outputId": "fb1366ff-2652-466d-ddc3-f38d914e4d47"
      },
      "execution_count": 13,
      "outputs": [
        {
          "output_type": "execute_result",
          "data": {
            "text/plain": [
              "['thiss_is', 'not', 'spam']"
            ]
          },
          "metadata": {},
          "execution_count": 13
        }
      ]
    },
    {
      "cell_type": "code",
      "source": [
        "nltk.download('stopwords')\n",
        "stop_words = set(stopwords.words('english'))\n",
        "stop_words"
      ],
      "metadata": {
        "colab": {
          "base_uri": "https://localhost:8080/"
        },
        "id": "nf8tOZaOx45Q",
        "outputId": "72461378-c1de-4f20-a8b2-9bc42667fa3f"
      },
      "execution_count": 14,
      "outputs": [
        {
          "output_type": "stream",
          "name": "stderr",
          "text": [
            "[nltk_data] Downloading package stopwords to /root/nltk_data...\n",
            "[nltk_data]   Unzipping corpora/stopwords.zip.\n"
          ]
        },
        {
          "output_type": "execute_result",
          "data": {
            "text/plain": [
              "{'a',\n",
              " 'about',\n",
              " 'above',\n",
              " 'after',\n",
              " 'again',\n",
              " 'against',\n",
              " 'ain',\n",
              " 'all',\n",
              " 'am',\n",
              " 'an',\n",
              " 'and',\n",
              " 'any',\n",
              " 'are',\n",
              " 'aren',\n",
              " \"aren't\",\n",
              " 'as',\n",
              " 'at',\n",
              " 'be',\n",
              " 'because',\n",
              " 'been',\n",
              " 'before',\n",
              " 'being',\n",
              " 'below',\n",
              " 'between',\n",
              " 'both',\n",
              " 'but',\n",
              " 'by',\n",
              " 'can',\n",
              " 'couldn',\n",
              " \"couldn't\",\n",
              " 'd',\n",
              " 'did',\n",
              " 'didn',\n",
              " \"didn't\",\n",
              " 'do',\n",
              " 'does',\n",
              " 'doesn',\n",
              " \"doesn't\",\n",
              " 'doing',\n",
              " 'don',\n",
              " \"don't\",\n",
              " 'down',\n",
              " 'during',\n",
              " 'each',\n",
              " 'few',\n",
              " 'for',\n",
              " 'from',\n",
              " 'further',\n",
              " 'had',\n",
              " 'hadn',\n",
              " \"hadn't\",\n",
              " 'has',\n",
              " 'hasn',\n",
              " \"hasn't\",\n",
              " 'have',\n",
              " 'haven',\n",
              " \"haven't\",\n",
              " 'having',\n",
              " 'he',\n",
              " 'her',\n",
              " 'here',\n",
              " 'hers',\n",
              " 'herself',\n",
              " 'him',\n",
              " 'himself',\n",
              " 'his',\n",
              " 'how',\n",
              " 'i',\n",
              " 'if',\n",
              " 'in',\n",
              " 'into',\n",
              " 'is',\n",
              " 'isn',\n",
              " \"isn't\",\n",
              " 'it',\n",
              " \"it's\",\n",
              " 'its',\n",
              " 'itself',\n",
              " 'just',\n",
              " 'll',\n",
              " 'm',\n",
              " 'ma',\n",
              " 'me',\n",
              " 'mightn',\n",
              " \"mightn't\",\n",
              " 'more',\n",
              " 'most',\n",
              " 'mustn',\n",
              " \"mustn't\",\n",
              " 'my',\n",
              " 'myself',\n",
              " 'needn',\n",
              " \"needn't\",\n",
              " 'no',\n",
              " 'nor',\n",
              " 'not',\n",
              " 'now',\n",
              " 'o',\n",
              " 'of',\n",
              " 'off',\n",
              " 'on',\n",
              " 'once',\n",
              " 'only',\n",
              " 'or',\n",
              " 'other',\n",
              " 'our',\n",
              " 'ours',\n",
              " 'ourselves',\n",
              " 'out',\n",
              " 'over',\n",
              " 'own',\n",
              " 're',\n",
              " 's',\n",
              " 'same',\n",
              " 'shan',\n",
              " \"shan't\",\n",
              " 'she',\n",
              " \"she's\",\n",
              " 'should',\n",
              " \"should've\",\n",
              " 'shouldn',\n",
              " \"shouldn't\",\n",
              " 'so',\n",
              " 'some',\n",
              " 'such',\n",
              " 't',\n",
              " 'than',\n",
              " 'that',\n",
              " \"that'll\",\n",
              " 'the',\n",
              " 'their',\n",
              " 'theirs',\n",
              " 'them',\n",
              " 'themselves',\n",
              " 'then',\n",
              " 'there',\n",
              " 'these',\n",
              " 'they',\n",
              " 'this',\n",
              " 'those',\n",
              " 'through',\n",
              " 'to',\n",
              " 'too',\n",
              " 'under',\n",
              " 'until',\n",
              " 'up',\n",
              " 've',\n",
              " 'very',\n",
              " 'was',\n",
              " 'wasn',\n",
              " \"wasn't\",\n",
              " 'we',\n",
              " 'were',\n",
              " 'weren',\n",
              " \"weren't\",\n",
              " 'what',\n",
              " 'when',\n",
              " 'where',\n",
              " 'which',\n",
              " 'while',\n",
              " 'who',\n",
              " 'whom',\n",
              " 'why',\n",
              " 'will',\n",
              " 'with',\n",
              " 'won',\n",
              " \"won't\",\n",
              " 'wouldn',\n",
              " \"wouldn't\",\n",
              " 'y',\n",
              " 'you',\n",
              " \"you'd\",\n",
              " \"you'll\",\n",
              " \"you're\",\n",
              " \"you've\",\n",
              " 'your',\n",
              " 'yours',\n",
              " 'yourself',\n",
              " 'yourselves'}"
            ]
          },
          "metadata": {},
          "execution_count": 14
        }
      ]
    },
    {
      "cell_type": "code",
      "source": [
        "nltk.download('wordnet')\n",
        "from nltk.stem import WordNetLemmatizer\n",
        "lemmatizer = WordNetLemmatizer()\n",
        "demo_msg1=[\"listening\",\"leaves\",\"left\"]\n",
        "lemmatized_words = [lemmatizer.lemmatize(word) for word in demo_msg1]\n",
        "lemmatized_words"
      ],
      "metadata": {
        "colab": {
          "base_uri": "https://localhost:8080/"
        },
        "id": "x2Os891A5TRn",
        "outputId": "9120f26e-2f31-4d14-e228-16a05eafb1bd"
      },
      "execution_count": 15,
      "outputs": [
        {
          "output_type": "stream",
          "name": "stderr",
          "text": [
            "[nltk_data] Downloading package wordnet to /root/nltk_data...\n"
          ]
        },
        {
          "output_type": "execute_result",
          "data": {
            "text/plain": [
              "['listening', 'leaf', 'left']"
            ]
          },
          "metadata": {},
          "execution_count": 15
        }
      ]
    },
    {
      "cell_type": "code",
      "source": [
        "def remove_stopwords(msg):\n",
        "  l1=[]\n",
        "  for word in msg:\n",
        "    if word not in stop_words:\n",
        "      l1.append(word)\n",
        "  return l1"
      ],
      "metadata": {
        "id": "ycELRs3CB3-B"
      },
      "execution_count": 16,
      "outputs": []
    },
    {
      "cell_type": "code",
      "source": [
        "demo_msg1=[\"listening\",\"leaves\",\"left\"]\n",
        "demo_msg1=remove_stopwords(demo_msg1)\n",
        "demo_msg1"
      ],
      "metadata": {
        "colab": {
          "base_uri": "https://localhost:8080/"
        },
        "id": "XXRf4GfyHu1t",
        "outputId": "adfdd063-d832-4971-e71c-e435d516631c"
      },
      "execution_count": 17,
      "outputs": [
        {
          "output_type": "execute_result",
          "data": {
            "text/plain": [
              "['listening', 'leaves', 'left']"
            ]
          },
          "metadata": {},
          "execution_count": 17
        }
      ]
    },
    {
      "cell_type": "code",
      "source": [
        "from nltk.stem import WordNetLemmatizer\n",
        "\n",
        "def lemmatize_msg(msg):\n",
        "    lem = []\n",
        "    lemmatizer = WordNetLemmatizer()\n",
        "\n",
        "    for word in msg:\n",
        "        lem.append(lemmatizer.lemmatize(word))\n",
        "\n",
        "    return lem\n"
      ],
      "metadata": {
        "id": "YhUxo_SQC-3v"
      },
      "execution_count": 18,
      "outputs": []
    },
    {
      "cell_type": "code",
      "source": [
        "def remove_blank_lines(message):\n",
        "    lines = message.splitlines()\n",
        "    non_empty_lines = [line for line in lines if line.strip()]\n",
        "    return '\\n'.join(non_empty_lines)"
      ],
      "metadata": {
        "colab": {
          "base_uri": "https://localhost:8080/"
        },
        "id": "y9W3usBEtH5-",
        "outputId": "6f849aa2-697b-4f93-d8df-86e9c22dfd21"
      },
      "execution_count": 23,
      "outputs": [
        {
          "output_type": "stream",
          "name": "stdout",
          "text": [
            "Hello\n",
            "This is a message with blank lines\n",
            "in between.\n",
            "Goodbye\n"
          ]
        }
      ]
    },
    {
      "cell_type": "code",
      "source": [
        "def process_dataset(df):\n",
        "  l=[]\n",
        "  for i in range(len(df)):\n",
        "    msg=df['MESSAGE'][i]\n",
        "    msg=remove_blank_lines(msg)\n",
        "    msg=tokenizer.tokenize(msg)\n",
        "    msg=lower_msg(msg)\n",
        "    msg=remove_stopwords(msg)\n",
        "    msg=lemmatize_msg(msg)\n",
        "    for word in msg:\n",
        "      l.append(word)\n",
        "\n",
        "\n",
        "  return l"
      ],
      "metadata": {
        "id": "XKde3PJ9Atl2"
      },
      "execution_count": 24,
      "outputs": []
    },
    {
      "cell_type": "code",
      "source": [
        "msg=process_dataset(df)\n",
        "msg"
      ],
      "metadata": {
        "colab": {
          "base_uri": "https://localhost:8080/"
        },
        "id": "ZqdSD6bXDUhe",
        "outputId": "ff85c70e-3564-4d8f-ed08-c105cd65c3bc"
      },
      "execution_count": 25,
      "outputs": [
        {
          "output_type": "execute_result",
          "data": {
            "text/plain": [
              "['dear',\n",
              " 'homeowner',\n",
              " 'interest',\n",
              " 'rate',\n",
              " 'lowest',\n",
              " 'point',\n",
              " '40',\n",
              " 'year',\n",
              " 'help',\n",
              " 'find',\n",
              " 'best',\n",
              " 'rate',\n",
              " 'situation',\n",
              " 'matching',\n",
              " 'need',\n",
              " 'hundred',\n",
              " 'lender',\n",
              " 'home',\n",
              " 'improvement',\n",
              " 'refinance',\n",
              " 'second',\n",
              " 'mortgage',\n",
              " 'home',\n",
              " 'equity',\n",
              " 'loan',\n",
              " 'even',\n",
              " 'le',\n",
              " 'perfect',\n",
              " 'credit',\n",
              " 'service',\n",
              " '100',\n",
              " 'free',\n",
              " 'home',\n",
              " 'owner',\n",
              " 'new',\n",
              " 'home',\n",
              " 'buyer',\n",
              " 'without',\n",
              " 'obligation',\n",
              " 'fill',\n",
              " 'quick',\n",
              " 'simple',\n",
              " 'form',\n",
              " 'jump',\n",
              " 'start',\n",
              " 'future',\n",
              " 'plan',\n",
              " 'today',\n",
              " 'visit',\n",
              " 'http',\n",
              " '61',\n",
              " '145',\n",
              " '116',\n",
              " '186',\n",
              " 'user0201',\n",
              " 'index',\n",
              " 'asp',\n",
              " 'afft',\n",
              " 'qm10',\n",
              " 'unsubscribe',\n",
              " 'please',\n",
              " 'visit',\n",
              " 'http',\n",
              " '61',\n",
              " '145',\n",
              " '116',\n",
              " '186',\n",
              " 'light',\n",
              " 'watch',\n",
              " 'asp',\n",
              " 'attention',\n",
              " 'must',\n",
              " 'computer',\n",
              " 'user',\n",
              " 'new',\n",
              " 'special',\n",
              " 'package',\n",
              " 'deal',\n",
              " 'norton',\n",
              " 'systemworks',\n",
              " '2002',\n",
              " 'software',\n",
              " 'suite',\n",
              " 'professional',\n",
              " 'edition',\n",
              " 'includes',\n",
              " 'six',\n",
              " 'yes',\n",
              " '6',\n",
              " 'feature',\n",
              " 'packed',\n",
              " 'utility',\n",
              " '1',\n",
              " 'special',\n",
              " 'low',\n",
              " 'price',\n",
              " 'software',\n",
              " 'protect',\n",
              " 'computer',\n",
              " 'unwanted',\n",
              " 'hazardous',\n",
              " 'virus',\n",
              " 'help',\n",
              " 'secure',\n",
              " 'private',\n",
              " 'valuable',\n",
              " 'information',\n",
              " 'allow',\n",
              " 'transfer',\n",
              " 'file',\n",
              " 'send',\n",
              " 'e',\n",
              " 'mail',\n",
              " 'safely',\n",
              " 'backup',\n",
              " 'data',\n",
              " 'quick',\n",
              " 'easily',\n",
              " 'improve',\n",
              " 'pc',\n",
              " 'performance',\n",
              " 'w',\n",
              " 'superior',\n",
              " 'integral',\n",
              " 'diagnostics',\n",
              " '6',\n",
              " 'feature',\n",
              " 'packed',\n",
              " 'utility',\n",
              " '1',\n",
              " 'great',\n",
              " 'price',\n",
              " '300',\n",
              " 'combined',\n",
              " 'retail',\n",
              " 'value',\n",
              " '29',\n",
              " '99',\n",
              " 'includes',\n",
              " 'free',\n",
              " 'shipping',\n",
              " 'fall',\n",
              " 'prey',\n",
              " 'destructive',\n",
              " 'virus',\n",
              " 'hacker',\n",
              " 'protect',\n",
              " 'computer',\n",
              " 'valuable',\n",
              " 'information',\n",
              " 'delay',\n",
              " 'get',\n",
              " 'copy',\n",
              " 'today',\n",
              " 'http',\n",
              " 'euro',\n",
              " 'specialdiscounts4u',\n",
              " 'com',\n",
              " 'email',\n",
              " 'screened',\n",
              " 'filtered',\n",
              " 'house',\n",
              " 'opt',\n",
              " 'system',\n",
              " 'compliance',\n",
              " 'state',\n",
              " 'law',\n",
              " 'wish',\n",
              " 'opt',\n",
              " 'mailing',\n",
              " 'well',\n",
              " 'list',\n",
              " 'thousand',\n",
              " 'email',\n",
              " 'provider',\n",
              " 'please',\n",
              " 'visit',\n",
              " 'http',\n",
              " 'dvd',\n",
              " 'specialdiscounts4u',\n",
              " 'com',\n",
              " 'optoutd',\n",
              " 'html',\n",
              " 'multi',\n",
              " 'part',\n",
              " 'message',\n",
              " 'mime',\n",
              " 'format',\n",
              " '_nextpart_000_1cdc19_01c25366',\n",
              " '4b57f3a0',\n",
              " 'content',\n",
              " 'type',\n",
              " 'text',\n",
              " 'plain',\n",
              " 'charset',\n",
              " 'window',\n",
              " '1252',\n",
              " 'content',\n",
              " 'transfer',\n",
              " 'encoding',\n",
              " 'quoted',\n",
              " 'printable',\n",
              " 'dare',\n",
              " 'try',\n",
              " 'find',\n",
              " 'better',\n",
              " 'annuity',\n",
              " '20',\n",
              " '5',\n",
              " '40',\n",
              " 'guaranteed',\n",
              " '6',\n",
              " 'year',\n",
              " '0a',\n",
              " '6',\n",
              " 'year',\n",
              " 'surrender',\n",
              " 'charge',\n",
              " '0a',\n",
              " '5',\n",
              " 'agent',\n",
              " 'commission',\n",
              " 'age',\n",
              " '80',\n",
              " '09',\n",
              " 'call',\n",
              " 'today',\n",
              " 'information',\n",
              " '800',\n",
              " '888',\n",
              " '7641',\n",
              " 'ext',\n",
              " '103',\n",
              " 'please',\n",
              " 'fill',\n",
              " 'form',\n",
              " 'information',\n",
              " '20',\n",
              " 'name',\n",
              " '09',\n",
              " 'e',\n",
              " 'mail',\n",
              " '20',\n",
              " 'phone',\n",
              " '20',\n",
              " 'city',\n",
              " 'state',\n",
              " '20',\n",
              " '09',\n",
              " '20',\n",
              " 'pmg',\n",
              " 'financial',\n",
              " 'service',\n",
              " '5',\n",
              " '40',\n",
              " 'deposit',\n",
              " '100',\n",
              " '000',\n",
              " '5',\n",
              " '25',\n",
              " 'interest',\n",
              " 'deposit',\n",
              " 'totalling',\n",
              " '25',\n",
              " '000',\n",
              " '99',\n",
              " '999',\n",
              " '20',\n",
              " 'want',\n",
              " 'anyone',\n",
              " 'receive',\n",
              " 'mailing',\n",
              " 'wish',\n",
              " 'receive',\n",
              " 'professional',\n",
              " 'communication',\n",
              " 'sent',\n",
              " 'insurance',\n",
              " 'professional',\n",
              " 'removed',\n",
              " 'mailing',\n",
              " 'list',\n",
              " 'reply',\n",
              " 'message',\n",
              " 'instead',\n",
              " 'go',\n",
              " 'http',\n",
              " 'www',\n",
              " 'insuranceiq',\n",
              " 'com',\n",
              " 'optout',\n",
              " 'http',\n",
              " 'www',\n",
              " 'insuranceiq',\n",
              " 'com',\n",
              " 'optout',\n",
              " '20',\n",
              " 'legal',\n",
              " 'notice',\n",
              " 'http',\n",
              " 'www',\n",
              " 'insiq',\n",
              " 'com',\n",
              " 'legal',\n",
              " 'htm',\n",
              " '20',\n",
              " '_nextpart_000_1cdc19_01c25366',\n",
              " '4b57f3a0',\n",
              " 'content',\n",
              " 'type',\n",
              " 'text',\n",
              " 'html',\n",
              " 'charset',\n",
              " 'iso',\n",
              " '8859',\n",
              " '1',\n",
              " 'content',\n",
              " 'transfer',\n",
              " 'encoding',\n",
              " 'quoted',\n",
              " 'printable',\n",
              " 'html',\n",
              " 'head',\n",
              " 'title',\n",
              " 'dare',\n",
              " 'find',\n",
              " 'better',\n",
              " 'annuity',\n",
              " 'title',\n",
              " 'meta',\n",
              " 'http',\n",
              " 'equiv',\n",
              " '3d',\n",
              " 'content',\n",
              " 'type',\n",
              " 'content',\n",
              " '3d',\n",
              " 'text',\n",
              " 'html',\n",
              " 'charset',\n",
              " '3diso',\n",
              " '8859',\n",
              " '1',\n",
              " 'head',\n",
              " 'body',\n",
              " 'bgcolor',\n",
              " '3d',\n",
              " '666666',\n",
              " 'text',\n",
              " '3d',\n",
              " '000000',\n",
              " 'font',\n",
              " 'face',\n",
              " '3d',\n",
              " 'arial',\n",
              " 'helvetica',\n",
              " 'sans',\n",
              " 'serif',\n",
              " '20',\n",
              " 'table',\n",
              " 'width',\n",
              " '3d',\n",
              " '550',\n",
              " 'border',\n",
              " '3d',\n",
              " '1',\n",
              " 'align',\n",
              " '3d',\n",
              " 'center',\n",
              " 'cellpadding',\n",
              " '3d',\n",
              " '0',\n",
              " 'cellspacing',\n",
              " '3d',\n",
              " '0',\n",
              " 'bordercolor',\n",
              " '3d',\n",
              " '000000',\n",
              " 'bgcolor',\n",
              " '3d',\n",
              " 'ffffff',\n",
              " 'tr',\n",
              " '20',\n",
              " 'td',\n",
              " 'img',\n",
              " 'src',\n",
              " '3d',\n",
              " 'http',\n",
              " 'iiq',\n",
              " 'u',\n",
              " 'image',\n",
              " 'pmg',\n",
              " '20020822',\n",
              " '101',\n",
              " 'gif',\n",
              " 'alt',\n",
              " '3d',\n",
              " 'dare',\n",
              " 'width',\n",
              " '3d',\n",
              " '550',\n",
              " 'height',\n",
              " '3d',\n",
              " '55',\n",
              " 'br',\n",
              " 'img',\n",
              " 'src',\n",
              " '3d',\n",
              " 'http',\n",
              " 'iiq',\n",
              " 'u',\n",
              " 'image',\n",
              " 'pmg',\n",
              " '20020822',\n",
              " '102',\n",
              " 'jpg',\n",
              " 'alt',\n",
              " '3d',\n",
              " 'try',\n",
              " 'find',\n",
              " 'better',\n",
              " 'annuity',\n",
              " 'width',\n",
              " '3d',\n",
              " '550',\n",
              " 'height',\n",
              " '3d',\n",
              " '47',\n",
              " 'br',\n",
              " 'img',\n",
              " 'src',\n",
              " '3d',\n",
              " 'http',\n",
              " 'iiq',\n",
              " 'u',\n",
              " 'image',\n",
              " 'pmg',\n",
              " '20020822',\n",
              " '103',\n",
              " 'jpg',\n",
              " 'width',\n",
              " '3d',\n",
              " '550',\n",
              " 'height',\n",
              " '3d',\n",
              " '248',\n",
              " '20',\n",
              " 'table',\n",
              " 'width',\n",
              " '3d',\n",
              " '100',\n",
              " 'cellpadding',\n",
              " '3d',\n",
              " '2',\n",
              " 'cellspacing',\n",
              " '3d',\n",
              " '2',\n",
              " 'border',\n",
              " '3d',\n",
              " '0',\n",
              " 'bgcolor',\n",
              " '3d',\n",
              " 'ffffff',\n",
              " 'tr',\n",
              " '20',\n",
              " 'td',\n",
              " 'img',\n",
              " 'src',\n",
              " '3d',\n",
              " 'http',\n",
              " 'iiq',\n",
              " 'u',\n",
              " 'image',\n",
              " 'pmg',\n",
              " '20020822',\n",
              " '201',\n",
              " 'gif',\n",
              " 'width',\n",
              " '3d',\n",
              " '32',\n",
              " 'height',\n",
              " '3d',\n",
              " '142',\n",
              " 'img',\n",
              " 'src',\n",
              " '3d',\n",
              " 'http',\n",
              " 'iiq',\n",
              " 'u',\n",
              " 'image',\n",
              " 'pmg',\n",
              " '20020822',\n",
              " '202',\n",
              " 'gif',\n",
              " 'alt',\n",
              " '3d',\n",
              " '5',\n",
              " '40',\n",
              " 'guaranteed',\n",
              " '6',\n",
              " 'year',\n",
              " '10',\n",
              " '6',\n",
              " 'year',\n",
              " 'surrender',\n",
              " 'charge',\n",
              " '10',\n",
              " '5',\n",
              " 'agent',\n",
              " 'commission',\n",
              " 'age',\n",
              " '80',\n",
              " 'width',\n",
              " '3d',\n",
              " '508',\n",
              " 'height',\n",
              " '3d',\n",
              " '142',\n",
              " 'td',\n",
              " 'tr',\n",
              " 'tr',\n",
              " '20',\n",
              " 'td',\n",
              " 'align',\n",
              " '3d',\n",
              " 'center',\n",
              " 'b',\n",
              " 'font',\n",
              " 'size',\n",
              " '3d',\n",
              " '2',\n",
              " 'call',\n",
              " 'today',\n",
              " 'information',\n",
              " 'br',\n",
              " 'img',\n",
              " 'src',\n",
              " '3d',\n",
              " 'http',\n",
              " 'iiq',\n",
              " 'u',\n",
              " 'image',\n",
              " 'pmg',\n",
              " '20020822',\n",
              " '3',\n",
              " 'gif',\n",
              " 'alt',\n",
              " '3d',\n",
              " '800',\n",
              " '888',\n",
              " '7641',\n",
              " 'ext',\n",
              " '103',\n",
              " 'width',\n",
              " '3d',\n",
              " '535',\n",
              " 'height',\n",
              " '3d',\n",
              " '115',\n",
              " 'br',\n",
              " 'font',\n",
              " 'b',\n",
              " 'br',\n",
              " 'table',\n",
              " 'width',\n",
              " '3d',\n",
              " '95',\n",
              " 'border',\n",
              " '3d',\n",
              " '1',\n",
              " 'cellpadding',\n",
              " '3d',\n",
              " '0',\n",
              " 'cellspacing',\n",
              " '3d',\n",
              " '0',\n",
              " 'bordercolor',\n",
              " '3d',\n",
              " '000000',\n",
              " 'tr',\n",
              " '20',\n",
              " 'form',\n",
              " 'method',\n",
              " '3d',\n",
              " 'post',\n",
              " 'action',\n",
              " '3d',\n",
              " 'http',\n",
              " '65',\n",
              " '217',\n",
              " '159',\n",
              " '103',\n",
              " 'response',\n",
              " 'response',\n",
              " 'asp',\n",
              " 'td',\n",
              " '20',\n",
              " 'table',\n",
              " 'width',\n",
              " '3d',\n",
              " '100',\n",
              " 'border',\n",
              " '3d',\n",
              " '0',\n",
              " 'align',\n",
              " '3d',\n",
              " 'center',\n",
              " 'cellpadding',\n",
              " '3d',\n",
              " '2',\n",
              " 'cellspacing',\n",
              " '3d',\n",
              " '0',\n",
              " 'background',\n",
              " '3d',\n",
              " 'http',\n",
              " 'iiq',\n",
              " 'u',\n",
              " 'image',\n",
              " 'pmg',\n",
              " '20020822',\n",
              " '5',\n",
              " 'gif',\n",
              " 'bgcolor',\n",
              " '3d',\n",
              " 'ffffff',\n",
              " 'tr',\n",
              " '20',\n",
              " 'td',\n",
              " 'colspan',\n",
              " '3d',\n",
              " '5',\n",
              " 'align',\n",
              " '3d',\n",
              " 'center',\n",
              " 'b',\n",
              " 'font',\n",
              " 'size',\n",
              " '3d',\n",
              " '2',\n",
              " 'please',\n",
              " 'fill',\n",
              " 'form',\n",
              " 'information',\n",
              " 'font',\n",
              " 'b',\n",
              " 'td',\n",
              " 'tr',\n",
              " 'tr',\n",
              " '20',\n",
              " 'td',\n",
              " 'width',\n",
              " '3d',\n",
              " '15',\n",
              " 'align',\n",
              " '3d',\n",
              " 'right',\n",
              " 'b',\n",
              " 'font',\n",
              " 'size',\n",
              " '3d',\n",
              " '2',\n",
              " 'name',\n",
              " 'font',\n",
              " 'b',\n",
              " 'td',\n",
              " 'td',\n",
              " 'colspan',\n",
              " '3d',\n",
              " '3',\n",
              " 'input',\n",
              " 'type',\n",
              " '3d',\n",
              " 'text',\n",
              " 'name',\n",
              " '3d',\n",
              " 'contactname',\n",
              " 'size',\n",
              " '3d',\n",
              " '50',\n",
              " 'td',\n",
              " 'td',\n",
              " 'rowspan',\n",
              " '3d',\n",
              " '5',\n",
              " 'valign',\n",
              " '3d',\n",
              " 'middle',\n",
              " 'align',\n",
              " '3d',\n",
              " 'center',\n",
              " 'img',\n",
              " 'src',\n",
              " '3d',\n",
              " 'http',\n",
              " 'iiq',\n",
              " 'u',\n",
              " 'image',\n",
              " 'q3',\n",
              " 'gif',\n",
              " 'width',\n",
              " '3d',\n",
              " '43',\n",
              " 'height',\n",
              " '3d',\n",
              " '50',\n",
              " 'td',\n",
              " 'tr',\n",
              " 'tr',\n",
              " '20',\n",
              " 'td',\n",
              " 'width',\n",
              " '3d',\n",
              " '15',\n",
              " 'align',\n",
              " '3d',\n",
              " 'right',\n",
              " 'b',\n",
              " 'font',\n",
              " 'size',\n",
              " '3d',\n",
              " '2',\n",
              " 'e',\n",
              " 'mail',\n",
              " 'font',\n",
              " 'b',\n",
              " 'td',\n",
              " 'td',\n",
              " 'colspan',\n",
              " '3d',\n",
              " '3',\n",
              " 'input',\n",
              " 'type',\n",
              " '3d',\n",
              " 'text',\n",
              " 'name',\n",
              " '3d',\n",
              " 'email',\n",
              " 'size',\n",
              " '3d',\n",
              " '50',\n",
              " 'td',\n",
              " 'tr',\n",
              " 'tr',\n",
              " '20',\n",
              " 'td',\n",
              " 'width',\n",
              " '3d',\n",
              " '15',\n",
              " 'align',\n",
              " '3d',\n",
              " 'right',\n",
              " 'b',\n",
              " 'font',\n",
              " 'size',\n",
              " '3d',\n",
              " '2',\n",
              " 'phone',\n",
              " 'font',\n",
              " 'b',\n",
              " 'td',\n",
              " 'td',\n",
              " 'colspan',\n",
              " '3d',\n",
              " '3',\n",
              " 'input',\n",
              " 'type',\n",
              " '3d',\n",
              " 'text',\n",
              " 'name',\n",
              " '3d',\n",
              " 'phone',\n",
              " 'size',\n",
              " '3d',\n",
              " '50',\n",
              " 'td',\n",
              " 'tr',\n",
              " 'tr',\n",
              " '20',\n",
              " 'td',\n",
              " 'width',\n",
              " '3d',\n",
              " '15',\n",
              " 'align',\n",
              " '3d',\n",
              " 'right',\n",
              " 'b',\n",
              " 'font',\n",
              " 'size',\n",
              " '3d',\n",
              " '2',\n",
              " 'city',\n",
              " 'font',\n",
              " 'b',\n",
              " 'td',\n",
              " 'td',\n",
              " 'width',\n",
              " '3d',\n",
              " '30',\n",
              " 'input',\n",
              " 'type',\n",
              " '3d',\n",
              " 'text',\n",
              " 'name',\n",
              " '3d',\n",
              " 'city',\n",
              " 'size',\n",
              " '3d',\n",
              " '20',\n",
              " 'td',\n",
              " 'td',\n",
              " 'width',\n",
              " '3d',\n",
              " '15',\n",
              " 'align',\n",
              " '3d',\n",
              " 'right',\n",
              " 'b',\n",
              " 'font',\n",
              " 'size',\n",
              " '3d',\n",
              " '2',\n",
              " 'state',\n",
              " 'font',\n",
              " 'b',\n",
              " 'td',\n",
              " 'td',\n",
              " 'width',\n",
              " '3d',\n",
              " '20',\n",
              " 'input',\n",
              " 'type',\n",
              " '3d',\n",
              " 'text',\n",
              " 'name',\n",
              " '3d',\n",
              " 'state',\n",
              " 'size',\n",
              " '3d',\n",
              " '2',\n",
              " 'td',\n",
              " 'tr',\n",
              " 'tr',\n",
              " '20',\n",
              " 'td',\n",
              " 'width',\n",
              " '3d',\n",
              " '15',\n",
              " 'align',\n",
              " '3d',\n",
              " 'right',\n",
              " 'nbsp',\n",
              " 'td',\n",
              " 'td',\n",
              " 'width',\n",
              " '3d',\n",
              " '30',\n",
              " 'colspan',\n",
              " '3d',\n",
              " '3',\n",
              " '20',\n",
              " 'input',\n",
              " 'type',\n",
              " '3d',\n",
              " 'submit',\n",
              " 'name',\n",
              " '3d',\n",
              " 'btnsubmit',\n",
              " 'value',\n",
              " '3d',\n",
              " 'submit',\n",
              " 'input',\n",
              " 'type',\n",
              " '3d',\n",
              " 'hidden',\n",
              " 'name',\n",
              " '3d',\n",
              " 'hdnrecipienttxt',\n",
              " 'value',\n",
              " '3d',\n",
              " 'rhock',\n",
              " 'pmgsecurities',\n",
              " 'com',\n",
              " 'input',\n",
              " 'type',\n",
              " '3d',\n",
              " 'hidden',\n",
              " 'name',\n",
              " '3d',\n",
              " 'hdnsubjecttxt',\n",
              " 'value',\n",
              " '3d',\n",
              " 'pmg',\n",
              " 'dare',\n",
              " 'ad',\n",
              " 'inquiry',\n",
              " 'td',\n",
              " 'tr',\n",
              " 'table',\n",
              " 'td',\n",
              " 'input',\n",
              " 'type',\n",
              " '3d',\n",
              " 'hidden',\n",
              " 'name',\n",
              " '3d',\n",
              " 'sentto',\n",
              " 'value',\n",
              " '3d',\n",
              " '304704',\n",
              " 'form',\n",
              " 'tr',\n",
              " 'table',\n",
              " 'b',\n",
              " 'font',\n",
              " 'size',\n",
              " '3d',\n",
              " '2',\n",
              " 'img',\n",
              " 'src',\n",
              " '3d',\n",
              " 'http',\n",
              " 'iiq',\n",
              " 'u',\n",
              " 'image',\n",
              " 'pmg',\n",
              " '20020822',\n",
              " '4',\n",
              " 'gif',\n",
              " 'alt',\n",
              " '3d',\n",
              " 'pmg',\n",
              " 'financial',\n",
              " 'service',\n",
              " 'width',\n",
              " '3d',\n",
              " '416',\n",
              " 'height',\n",
              " '3d',\n",
              " '142',\n",
              " '20',\n",
              " 'font',\n",
              " 'b',\n",
              " 'td',\n",
              " 'tr',\n",
              " 'tr',\n",
              " '20',\n",
              " 'td',\n",
              " 'font',\n",
              " 'size',\n",
              " '3d',\n",
              " '1',\n",
              " '5',\n",
              " '40',\n",
              " 'deposit',\n",
              " '100',\n",
              " '000',\n",
              " '5',\n",
              " '25',\n",
              " 'interest',\n",
              " 'deposit',\n",
              " 'totalling',\n",
              " '25',\n",
              " '000',\n",
              " '99',\n",
              " '999',\n",
              " 'font',\n",
              " 'td',\n",
              " 'tr',\n",
              " 'table',\n",
              " 'td',\n",
              " 'tr',\n",
              " 'tr',\n",
              " '20',\n",
              " 'td',\n",
              " 'width',\n",
              " '3d',\n",
              " '100',\n",
              " 'bgcolor',\n",
              " '3d',\n",
              " 'cccccc',\n",
              " 'align',\n",
              " '3d',\n",
              " 'center',\n",
              " 'p',\n",
              " 'font',\n",
              " 'face',\n",
              " '3d',\n",
              " 'arial',\n",
              " 'helvetica',\n",
              " 'sans',\n",
              " 'serif',\n",
              " 'size',\n",
              " '3d',\n",
              " '1',\n",
              " '20',\n",
              " 'want',\n",
              " 'anyone',\n",
              " 'receive',\n",
              " 'mailing',\n",
              " ...]"
            ]
          },
          "metadata": {},
          "execution_count": 25
        }
      ]
    },
    {
      "cell_type": "code",
      "source": [
        "len(msg)"
      ],
      "metadata": {
        "colab": {
          "base_uri": "https://localhost:8080/"
        },
        "id": "Mfm2_gnuPKvg",
        "outputId": "c82a94cd-2dbb-489f-c55d-f432846bc713"
      },
      "execution_count": 32,
      "outputs": [
        {
          "output_type": "execute_result",
          "data": {
            "text/plain": [
              "1673671"
            ]
          },
          "metadata": {},
          "execution_count": 32
        }
      ]
    },
    {
      "cell_type": "code",
      "source": [
        "df = df.sample(frac=1, random_state=1)\n",
        "df = df.reset_index(drop=True)\n",
        "\n",
        "split_index = int(len(df) * 0.8)\n",
        "train_df, test_df = df[:split_index], df[split_index:]\n",
        "\n",
        "train_df = train_df.reset_index(drop=True)\n",
        "test_df = test_df.reset_index(drop=True)\n",
        "\n",
        "len(train_df),len(test_df)"
      ],
      "metadata": {
        "colab": {
          "base_uri": "https://localhost:8080/"
        },
        "id": "9dlXX3FmDXd_",
        "outputId": "eeb533f3-7ef4-4c2b-dfbd-1f68170b16b7"
      },
      "execution_count": 101,
      "outputs": [
        {
          "output_type": "execute_result",
          "data": {
            "text/plain": [
              "(4636, 1160)"
            ]
          },
          "metadata": {},
          "execution_count": 101
        }
      ]
    },
    {
      "cell_type": "code",
      "source": [
        "from nltk.probability import FreqDist\n",
        "freq_dist = FreqDist(msg)"
      ],
      "metadata": {
        "id": "y8_dchF5Kqhw"
      },
      "execution_count": 102,
      "outputs": []
    },
    {
      "cell_type": "code",
      "source": [
        "most_common_words = freq_dist.most_common(5)\n",
        "print(\"Most common words:\", most_common_words)"
      ],
      "metadata": {
        "colab": {
          "base_uri": "https://localhost:8080/"
        },
        "id": "C_hMs1afLgwt",
        "outputId": "a5276201-0ed0-487a-833e-4535be76be74"
      },
      "execution_count": 103,
      "outputs": [
        {
          "output_type": "stream",
          "name": "stdout",
          "text": [
            "Most common words: [('-', 207), ('a', 135), ('<', 132), ('>', 132), ('e', 128)]\n"
          ]
        }
      ]
    },
    {
      "cell_type": "code",
      "source": [
        "token_counter = {}\n",
        "\n",
        "for token in msg:\n",
        "  if token in token_counter:\n",
        "    token_counter[token] += 1\n",
        "  else:\n",
        "    token_counter[token] = 1\n",
        "\n",
        "len(token_counter)"
      ],
      "metadata": {
        "colab": {
          "base_uri": "https://localhost:8080/"
        },
        "id": "CWMmzQO9PTG4",
        "outputId": "5e5179ab-c864-4751-efeb-7d484c2b526d"
      },
      "execution_count": 104,
      "outputs": [
        {
          "output_type": "execute_result",
          "data": {
            "text/plain": [
              "74"
            ]
          },
          "metadata": {},
          "execution_count": 104
        }
      ]
    },
    {
      "cell_type": "code",
      "source": [
        "token_counter"
      ],
      "metadata": {
        "colab": {
          "base_uri": "https://localhost:8080/"
        },
        "id": "MYIrB9wyMnH0",
        "outputId": "efdd43dd-dc91-4725-e64a-3c9882da1379"
      },
      "execution_count": 105,
      "outputs": [
        {
          "output_type": "execute_result",
          "data": {
            "text/plain": [
              "{'<': 132,\n",
              " 'h': 36,\n",
              " 't': 89,\n",
              " 'm': 25,\n",
              " 'l': 109,\n",
              " '>': 132,\n",
              " 'b': 44,\n",
              " 'o': 63,\n",
              " 'd': 29,\n",
              " 'y': 8,\n",
              " ' ': 125,\n",
              " 'g': 31,\n",
              " 'C': 9,\n",
              " 'r': 92,\n",
              " '=': 37,\n",
              " '\"': 68,\n",
              " '#': 1,\n",
              " 'p': 21,\n",
              " 'a': 135,\n",
              " 'i': 85,\n",
              " 'n': 126,\n",
              " '1': 8,\n",
              " 'M': 4,\n",
              " 'u': 25,\n",
              " 's': 52,\n",
              " 'e': 128,\n",
              " 'O': 4,\n",
              " 'v': 18,\n",
              " 'w': 14,\n",
              " '.': 13,\n",
              " \"'\": 2,\n",
              " ';': 1,\n",
              " 'c': 35,\n",
              " 'x': 53,\n",
              " 'f': 34,\n",
              " '\\n': 109,\n",
              " 'H': 13,\n",
              " ',': 6,\n",
              " 'j': 53,\n",
              " '@': 2,\n",
              " 'B': 5,\n",
              " 'R': 5,\n",
              " '/': 37,\n",
              " 'A': 9,\n",
              " 'z': 7,\n",
              " '4': 5,\n",
              " '!': 51,\n",
              " '-': 207,\n",
              " 'G': 4,\n",
              " 'T': 4,\n",
              " 'L': 5,\n",
              " '3': 6,\n",
              " 'k': 6,\n",
              " '(': 1,\n",
              " ')': 1,\n",
              " '8': 3,\n",
              " '2': 10,\n",
              " '7': 3,\n",
              " 'W': 3,\n",
              " 'I': 4,\n",
              " 'D': 2,\n",
              " 'P': 1,\n",
              " 'E': 1,\n",
              " 'N': 1,\n",
              " ':': 5,\n",
              " '9': 4,\n",
              " '0': 2,\n",
              " '6': 2,\n",
              " '_': 2,\n",
              " 'V': 1,\n",
              " 'S': 1,\n",
              " 'F': 1,\n",
              " 'Y': 1,\n",
              " '?': 1}"
            ]
          },
          "metadata": {},
          "execution_count": 105
        }
      ]
    },
    {
      "cell_type": "code",
      "source": [
        "threshold=10000"
      ],
      "metadata": {
        "id": "_UBVTqoHP6f7"
      },
      "execution_count": 106,
      "outputs": []
    },
    {
      "cell_type": "code",
      "source": [
        "l_above_threshold=[]"
      ],
      "metadata": {
        "id": "8X5tFl2auJqw"
      },
      "execution_count": 107,
      "outputs": []
    },
    {
      "cell_type": "code",
      "source": [
        "for key in token_counter:\n",
        "  if token_counter[key]>threshold:\n",
        "    l_above_threshold.append(key)"
      ],
      "metadata": {
        "id": "Oy4EDiRzP-5I"
      },
      "execution_count": 108,
      "outputs": []
    },
    {
      "cell_type": "code",
      "source": [
        "l_above_threshold"
      ],
      "metadata": {
        "colab": {
          "base_uri": "https://localhost:8080/"
        },
        "id": "L6omV-qjwldq",
        "outputId": "4cbea58a-e034-46aa-e0d0-63cde0b2ddd3"
      },
      "execution_count": 109,
      "outputs": [
        {
          "output_type": "execute_result",
          "data": {
            "text/plain": [
              "[]"
            ]
          },
          "metadata": {},
          "execution_count": 109
        }
      ]
    },
    {
      "cell_type": "code",
      "source": [
        "for count, ele in enumerate(l_above_threshold):\n",
        "    print (count, ele)"
      ],
      "metadata": {
        "id": "6LAiN5vF1l5d"
      },
      "execution_count": 110,
      "outputs": []
    },
    {
      "cell_type": "code",
      "source": [
        "dict_above_threshold={}\n",
        "for count, ele in enumerate(l_above_threshold):\n",
        "    dict_above_threshold[ele]=count\n",
        "dict_above_threshold"
      ],
      "metadata": {
        "colab": {
          "base_uri": "https://localhost:8080/"
        },
        "id": "O-4Ldz9t0r8K",
        "outputId": "4f0c2f54-b1cc-4d3a-b175-905190da2fd3"
      },
      "execution_count": 111,
      "outputs": [
        {
          "output_type": "execute_result",
          "data": {
            "text/plain": [
              "{}"
            ]
          },
          "metadata": {},
          "execution_count": 111
        }
      ]
    },
    {
      "cell_type": "code",
      "source": [
        "def msg_to_array(msg):\n",
        "  #msg=process_dataset(msg)\n",
        "  msg=remove_blank_lines(msg)\n",
        "  msg=tokenizer.tokenize(msg)\n",
        "  msg=lower_msg(msg)\n",
        "  msg=remove_stopwords(msg)\n",
        "  msg=lemmatize_msg(msg)\n",
        "  arr=np.zeros(len(l_above_threshold))\n",
        "  #print(arr)\n",
        "  for word in msg:\n",
        "    count=0\n",
        "    if word in l_above_threshold:\n",
        "      #print(word)\n",
        "      count+=1\n",
        "      #print(count)\n",
        "      #print(arr[dict_above_threshold[word]])\n",
        "      arr[dict_above_threshold[word]]=count\n",
        "      #print(arr[dict_above_threshold[word]])\n",
        "  return arr"
      ],
      "metadata": {
        "id": "Q9Cjex0B0wjT"
      },
      "execution_count": 112,
      "outputs": []
    },
    {
      "cell_type": "code",
      "source": [
        "msg=df['MESSAGE'][1]"
      ],
      "metadata": {
        "id": "xRLyDid_9XgN"
      },
      "execution_count": 113,
      "outputs": []
    },
    {
      "cell_type": "code",
      "source": [
        "msg1=msg_to_array(msg)"
      ],
      "metadata": {
        "id": "TSpcwCA_3xKo"
      },
      "execution_count": 114,
      "outputs": []
    },
    {
      "cell_type": "code",
      "source": [
        "msg1"
      ],
      "metadata": {
        "colab": {
          "base_uri": "https://localhost:8080/"
        },
        "id": "6Y9LrrvG35If",
        "outputId": "ddb2299f-e539-4b10-ffa8-458a801fef22"
      },
      "execution_count": 115,
      "outputs": [
        {
          "output_type": "execute_result",
          "data": {
            "text/plain": [
              "array([], dtype=float64)"
            ]
          },
          "metadata": {},
          "execution_count": 115
        }
      ]
    },
    {
      "cell_type": "code",
      "source": [
        "def df_to_X_y(dff):\n",
        "  y = dff['CATEGORY'].to_numpy().astype(int)\n",
        "\n",
        "  message_col = dff['MESSAGE']\n",
        "  count_vectors = []\n",
        "\n",
        "  for message in message_col:\n",
        "    count_vector = msg_to_array(message)\n",
        "    count_vectors.append(count_vector)\n",
        "\n",
        "  X = np.array(count_vectors).astype(int)\n",
        "\n",
        "  return X, y"
      ],
      "metadata": {
        "id": "K7tIhNfQ_zfP"
      },
      "execution_count": 120,
      "outputs": []
    },
    {
      "cell_type": "code",
      "source": [
        "X_train, y_train = df_to_X_y(train_df)\n",
        "\n",
        "X_test, y_test = df_to_X_y(test_df)\n",
        "\n",
        "X_train.shape, y_train.shape, X_test.shape, y_test.shape"
      ],
      "metadata": {
        "colab": {
          "base_uri": "https://localhost:8080/"
        },
        "id": "ETKM8tAGBtKU",
        "outputId": "3113e3d9-29e1-40c6-a50c-72a05e565181"
      },
      "execution_count": 121,
      "outputs": [
        {
          "output_type": "execute_result",
          "data": {
            "text/plain": [
              "((4636, 0), (4636,), (1160, 0), (1160,))"
            ]
          },
          "metadata": {},
          "execution_count": 121
        }
      ]
    },
    {
      "cell_type": "code",
      "source": [
        "len(X_train),len(X_test)"
      ],
      "metadata": {
        "colab": {
          "base_uri": "https://localhost:8080/"
        },
        "id": "j3Cd2vWMBwxz",
        "outputId": "a89d66a1-f70f-4428-dc79-d3b4c862d14d"
      },
      "execution_count": 122,
      "outputs": [
        {
          "output_type": "execute_result",
          "data": {
            "text/plain": [
              "(4636, 1160)"
            ]
          },
          "metadata": {},
          "execution_count": 122
        }
      ]
    },
    {
      "cell_type": "code",
      "source": [
        "from sklearn.preprocessing import MinMaxScaler\n",
        "\n",
        "scaler = MinMaxScaler().fit(X_train)\n",
        "\n",
        "X_train, X_test = scaler.transform(X_train), scaler.transform(X_test)\n",
        "\n",
        "X_train"
      ],
      "metadata": {
        "colab": {
          "base_uri": "https://localhost:8080/",
          "height": 414
        },
        "id": "F8ESPZCqCgNU",
        "outputId": "e1acc2b6-193b-492b-c80f-365ecc7e6be1"
      },
      "execution_count": 123,
      "outputs": [
        {
          "output_type": "error",
          "ename": "ValueError",
          "evalue": "ignored",
          "traceback": [
            "\u001b[0;31m---------------------------------------------------------------------------\u001b[0m",
            "\u001b[0;31mValueError\u001b[0m                                Traceback (most recent call last)",
            "\u001b[0;32m<ipython-input-123-2c40c7517740>\u001b[0m in \u001b[0;36m<cell line: 3>\u001b[0;34m()\u001b[0m\n\u001b[1;32m      1\u001b[0m \u001b[0;32mfrom\u001b[0m \u001b[0msklearn\u001b[0m\u001b[0;34m.\u001b[0m\u001b[0mpreprocessing\u001b[0m \u001b[0;32mimport\u001b[0m \u001b[0mMinMaxScaler\u001b[0m\u001b[0;34m\u001b[0m\u001b[0;34m\u001b[0m\u001b[0m\n\u001b[1;32m      2\u001b[0m \u001b[0;34m\u001b[0m\u001b[0m\n\u001b[0;32m----> 3\u001b[0;31m \u001b[0mscaler\u001b[0m \u001b[0;34m=\u001b[0m \u001b[0mMinMaxScaler\u001b[0m\u001b[0;34m(\u001b[0m\u001b[0;34m)\u001b[0m\u001b[0;34m.\u001b[0m\u001b[0mfit\u001b[0m\u001b[0;34m(\u001b[0m\u001b[0mX_train\u001b[0m\u001b[0;34m)\u001b[0m\u001b[0;34m\u001b[0m\u001b[0;34m\u001b[0m\u001b[0m\n\u001b[0m\u001b[1;32m      4\u001b[0m \u001b[0;34m\u001b[0m\u001b[0m\n\u001b[1;32m      5\u001b[0m \u001b[0mX_train\u001b[0m\u001b[0;34m,\u001b[0m \u001b[0mX_test\u001b[0m \u001b[0;34m=\u001b[0m \u001b[0mscaler\u001b[0m\u001b[0;34m.\u001b[0m\u001b[0mtransform\u001b[0m\u001b[0;34m(\u001b[0m\u001b[0mX_train\u001b[0m\u001b[0;34m)\u001b[0m\u001b[0;34m,\u001b[0m \u001b[0mscaler\u001b[0m\u001b[0;34m.\u001b[0m\u001b[0mtransform\u001b[0m\u001b[0;34m(\u001b[0m\u001b[0mX_test\u001b[0m\u001b[0;34m)\u001b[0m\u001b[0;34m\u001b[0m\u001b[0;34m\u001b[0m\u001b[0m\n",
            "\u001b[0;32m/usr/local/lib/python3.10/dist-packages/sklearn/preprocessing/_data.py\u001b[0m in \u001b[0;36mfit\u001b[0;34m(self, X, y)\u001b[0m\n\u001b[1;32m    425\u001b[0m         \u001b[0;31m# Reset internal state before fitting\u001b[0m\u001b[0;34m\u001b[0m\u001b[0;34m\u001b[0m\u001b[0m\n\u001b[1;32m    426\u001b[0m         \u001b[0mself\u001b[0m\u001b[0;34m.\u001b[0m\u001b[0m_reset\u001b[0m\u001b[0;34m(\u001b[0m\u001b[0;34m)\u001b[0m\u001b[0;34m\u001b[0m\u001b[0;34m\u001b[0m\u001b[0m\n\u001b[0;32m--> 427\u001b[0;31m         \u001b[0;32mreturn\u001b[0m \u001b[0mself\u001b[0m\u001b[0;34m.\u001b[0m\u001b[0mpartial_fit\u001b[0m\u001b[0;34m(\u001b[0m\u001b[0mX\u001b[0m\u001b[0;34m,\u001b[0m \u001b[0my\u001b[0m\u001b[0;34m)\u001b[0m\u001b[0;34m\u001b[0m\u001b[0;34m\u001b[0m\u001b[0m\n\u001b[0m\u001b[1;32m    428\u001b[0m \u001b[0;34m\u001b[0m\u001b[0m\n\u001b[1;32m    429\u001b[0m     \u001b[0;32mdef\u001b[0m \u001b[0mpartial_fit\u001b[0m\u001b[0;34m(\u001b[0m\u001b[0mself\u001b[0m\u001b[0;34m,\u001b[0m \u001b[0mX\u001b[0m\u001b[0;34m,\u001b[0m \u001b[0my\u001b[0m\u001b[0;34m=\u001b[0m\u001b[0;32mNone\u001b[0m\u001b[0;34m)\u001b[0m\u001b[0;34m:\u001b[0m\u001b[0;34m\u001b[0m\u001b[0;34m\u001b[0m\u001b[0m\n",
            "\u001b[0;32m/usr/local/lib/python3.10/dist-packages/sklearn/preprocessing/_data.py\u001b[0m in \u001b[0;36mpartial_fit\u001b[0;34m(self, X, y)\u001b[0m\n\u001b[1;32m    464\u001b[0m \u001b[0;34m\u001b[0m\u001b[0m\n\u001b[1;32m    465\u001b[0m         \u001b[0mfirst_pass\u001b[0m \u001b[0;34m=\u001b[0m \u001b[0;32mnot\u001b[0m \u001b[0mhasattr\u001b[0m\u001b[0;34m(\u001b[0m\u001b[0mself\u001b[0m\u001b[0;34m,\u001b[0m \u001b[0;34m\"n_samples_seen_\"\u001b[0m\u001b[0;34m)\u001b[0m\u001b[0;34m\u001b[0m\u001b[0;34m\u001b[0m\u001b[0m\n\u001b[0;32m--> 466\u001b[0;31m         X = self._validate_data(\n\u001b[0m\u001b[1;32m    467\u001b[0m             \u001b[0mX\u001b[0m\u001b[0;34m,\u001b[0m\u001b[0;34m\u001b[0m\u001b[0;34m\u001b[0m\u001b[0m\n\u001b[1;32m    468\u001b[0m             \u001b[0mreset\u001b[0m\u001b[0;34m=\u001b[0m\u001b[0mfirst_pass\u001b[0m\u001b[0;34m,\u001b[0m\u001b[0;34m\u001b[0m\u001b[0;34m\u001b[0m\u001b[0m\n",
            "\u001b[0;32m/usr/local/lib/python3.10/dist-packages/sklearn/base.py\u001b[0m in \u001b[0;36m_validate_data\u001b[0;34m(self, X, y, reset, validate_separately, **check_params)\u001b[0m\n\u001b[1;32m    563\u001b[0m             \u001b[0;32mraise\u001b[0m \u001b[0mValueError\u001b[0m\u001b[0;34m(\u001b[0m\u001b[0;34m\"Validation should be done on X, y or both.\"\u001b[0m\u001b[0;34m)\u001b[0m\u001b[0;34m\u001b[0m\u001b[0;34m\u001b[0m\u001b[0m\n\u001b[1;32m    564\u001b[0m         \u001b[0;32melif\u001b[0m \u001b[0;32mnot\u001b[0m \u001b[0mno_val_X\u001b[0m \u001b[0;32mand\u001b[0m \u001b[0mno_val_y\u001b[0m\u001b[0;34m:\u001b[0m\u001b[0;34m\u001b[0m\u001b[0;34m\u001b[0m\u001b[0m\n\u001b[0;32m--> 565\u001b[0;31m             \u001b[0mX\u001b[0m \u001b[0;34m=\u001b[0m \u001b[0mcheck_array\u001b[0m\u001b[0;34m(\u001b[0m\u001b[0mX\u001b[0m\u001b[0;34m,\u001b[0m \u001b[0minput_name\u001b[0m\u001b[0;34m=\u001b[0m\u001b[0;34m\"X\"\u001b[0m\u001b[0;34m,\u001b[0m \u001b[0;34m**\u001b[0m\u001b[0mcheck_params\u001b[0m\u001b[0;34m)\u001b[0m\u001b[0;34m\u001b[0m\u001b[0;34m\u001b[0m\u001b[0m\n\u001b[0m\u001b[1;32m    566\u001b[0m             \u001b[0mout\u001b[0m \u001b[0;34m=\u001b[0m \u001b[0mX\u001b[0m\u001b[0;34m\u001b[0m\u001b[0;34m\u001b[0m\u001b[0m\n\u001b[1;32m    567\u001b[0m         \u001b[0;32melif\u001b[0m \u001b[0mno_val_X\u001b[0m \u001b[0;32mand\u001b[0m \u001b[0;32mnot\u001b[0m \u001b[0mno_val_y\u001b[0m\u001b[0;34m:\u001b[0m\u001b[0;34m\u001b[0m\u001b[0;34m\u001b[0m\u001b[0m\n",
            "\u001b[0;32m/usr/local/lib/python3.10/dist-packages/sklearn/utils/validation.py\u001b[0m in \u001b[0;36mcheck_array\u001b[0;34m(array, accept_sparse, accept_large_sparse, dtype, order, copy, force_all_finite, ensure_2d, allow_nd, ensure_min_samples, ensure_min_features, estimator, input_name)\u001b[0m\n\u001b[1;32m    938\u001b[0m         \u001b[0mn_features\u001b[0m \u001b[0;34m=\u001b[0m \u001b[0marray\u001b[0m\u001b[0;34m.\u001b[0m\u001b[0mshape\u001b[0m\u001b[0;34m[\u001b[0m\u001b[0;36m1\u001b[0m\u001b[0;34m]\u001b[0m\u001b[0;34m\u001b[0m\u001b[0;34m\u001b[0m\u001b[0m\n\u001b[1;32m    939\u001b[0m         \u001b[0;32mif\u001b[0m \u001b[0mn_features\u001b[0m \u001b[0;34m<\u001b[0m \u001b[0mensure_min_features\u001b[0m\u001b[0;34m:\u001b[0m\u001b[0;34m\u001b[0m\u001b[0;34m\u001b[0m\u001b[0m\n\u001b[0;32m--> 940\u001b[0;31m             raise ValueError(\n\u001b[0m\u001b[1;32m    941\u001b[0m                 \u001b[0;34m\"Found array with %d feature(s) (shape=%s) while\"\u001b[0m\u001b[0;34m\u001b[0m\u001b[0;34m\u001b[0m\u001b[0m\n\u001b[1;32m    942\u001b[0m                 \u001b[0;34m\" a minimum of %d is required%s.\"\u001b[0m\u001b[0;34m\u001b[0m\u001b[0;34m\u001b[0m\u001b[0m\n",
            "\u001b[0;31mValueError\u001b[0m: Found array with 0 feature(s) (shape=(4636, 0)) while a minimum of 1 is required by MinMaxScaler."
          ]
        }
      ]
    },
    {
      "cell_type": "code",
      "source": [
        "from sklearn.linear_model import LogisticRegression\n",
        "from sklearn.metrics import classification_report\n",
        "\n",
        "lr = LogisticRegression().fit(X_train, y_train)\n",
        "print(classification_report(y_test, lr.predict(X_test)))\n"
      ],
      "metadata": {
        "colab": {
          "base_uri": "https://localhost:8080/",
          "height": 395
        },
        "id": "WyDP3R8pDIS_",
        "outputId": "45324d99-f8a6-4a74-aa4a-9e8380d35873"
      },
      "execution_count": 124,
      "outputs": [
        {
          "output_type": "error",
          "ename": "ValueError",
          "evalue": "ignored",
          "traceback": [
            "\u001b[0;31m---------------------------------------------------------------------------\u001b[0m",
            "\u001b[0;31mValueError\u001b[0m                                Traceback (most recent call last)",
            "\u001b[0;32m<ipython-input-124-1dc0086c03df>\u001b[0m in \u001b[0;36m<cell line: 4>\u001b[0;34m()\u001b[0m\n\u001b[1;32m      2\u001b[0m \u001b[0;32mfrom\u001b[0m \u001b[0msklearn\u001b[0m\u001b[0;34m.\u001b[0m\u001b[0mmetrics\u001b[0m \u001b[0;32mimport\u001b[0m \u001b[0mclassification_report\u001b[0m\u001b[0;34m\u001b[0m\u001b[0;34m\u001b[0m\u001b[0m\n\u001b[1;32m      3\u001b[0m \u001b[0;34m\u001b[0m\u001b[0m\n\u001b[0;32m----> 4\u001b[0;31m \u001b[0mlr\u001b[0m \u001b[0;34m=\u001b[0m \u001b[0mLogisticRegression\u001b[0m\u001b[0;34m(\u001b[0m\u001b[0;34m)\u001b[0m\u001b[0;34m.\u001b[0m\u001b[0mfit\u001b[0m\u001b[0;34m(\u001b[0m\u001b[0mX_train\u001b[0m\u001b[0;34m,\u001b[0m \u001b[0my_train\u001b[0m\u001b[0;34m)\u001b[0m\u001b[0;34m\u001b[0m\u001b[0;34m\u001b[0m\u001b[0m\n\u001b[0m\u001b[1;32m      5\u001b[0m \u001b[0mprint\u001b[0m\u001b[0;34m(\u001b[0m\u001b[0mclassification_report\u001b[0m\u001b[0;34m(\u001b[0m\u001b[0my_test\u001b[0m\u001b[0;34m,\u001b[0m \u001b[0mlr\u001b[0m\u001b[0;34m.\u001b[0m\u001b[0mpredict\u001b[0m\u001b[0;34m(\u001b[0m\u001b[0mX_test\u001b[0m\u001b[0;34m)\u001b[0m\u001b[0;34m)\u001b[0m\u001b[0;34m)\u001b[0m\u001b[0;34m\u001b[0m\u001b[0;34m\u001b[0m\u001b[0m\n",
            "\u001b[0;32m/usr/local/lib/python3.10/dist-packages/sklearn/linear_model/_logistic.py\u001b[0m in \u001b[0;36mfit\u001b[0;34m(self, X, y, sample_weight)\u001b[0m\n\u001b[1;32m   1194\u001b[0m             \u001b[0m_dtype\u001b[0m \u001b[0;34m=\u001b[0m \u001b[0;34m[\u001b[0m\u001b[0mnp\u001b[0m\u001b[0;34m.\u001b[0m\u001b[0mfloat64\u001b[0m\u001b[0;34m,\u001b[0m \u001b[0mnp\u001b[0m\u001b[0;34m.\u001b[0m\u001b[0mfloat32\u001b[0m\u001b[0;34m]\u001b[0m\u001b[0;34m\u001b[0m\u001b[0;34m\u001b[0m\u001b[0m\n\u001b[1;32m   1195\u001b[0m \u001b[0;34m\u001b[0m\u001b[0m\n\u001b[0;32m-> 1196\u001b[0;31m         X, y = self._validate_data(\n\u001b[0m\u001b[1;32m   1197\u001b[0m             \u001b[0mX\u001b[0m\u001b[0;34m,\u001b[0m\u001b[0;34m\u001b[0m\u001b[0;34m\u001b[0m\u001b[0m\n\u001b[1;32m   1198\u001b[0m             \u001b[0my\u001b[0m\u001b[0;34m,\u001b[0m\u001b[0;34m\u001b[0m\u001b[0;34m\u001b[0m\u001b[0m\n",
            "\u001b[0;32m/usr/local/lib/python3.10/dist-packages/sklearn/base.py\u001b[0m in \u001b[0;36m_validate_data\u001b[0;34m(self, X, y, reset, validate_separately, **check_params)\u001b[0m\n\u001b[1;32m    582\u001b[0m                 \u001b[0my\u001b[0m \u001b[0;34m=\u001b[0m \u001b[0mcheck_array\u001b[0m\u001b[0;34m(\u001b[0m\u001b[0my\u001b[0m\u001b[0;34m,\u001b[0m \u001b[0minput_name\u001b[0m\u001b[0;34m=\u001b[0m\u001b[0;34m\"y\"\u001b[0m\u001b[0;34m,\u001b[0m \u001b[0;34m**\u001b[0m\u001b[0mcheck_y_params\u001b[0m\u001b[0;34m)\u001b[0m\u001b[0;34m\u001b[0m\u001b[0;34m\u001b[0m\u001b[0m\n\u001b[1;32m    583\u001b[0m             \u001b[0;32melse\u001b[0m\u001b[0;34m:\u001b[0m\u001b[0;34m\u001b[0m\u001b[0;34m\u001b[0m\u001b[0m\n\u001b[0;32m--> 584\u001b[0;31m                 \u001b[0mX\u001b[0m\u001b[0;34m,\u001b[0m \u001b[0my\u001b[0m \u001b[0;34m=\u001b[0m \u001b[0mcheck_X_y\u001b[0m\u001b[0;34m(\u001b[0m\u001b[0mX\u001b[0m\u001b[0;34m,\u001b[0m \u001b[0my\u001b[0m\u001b[0;34m,\u001b[0m \u001b[0;34m**\u001b[0m\u001b[0mcheck_params\u001b[0m\u001b[0;34m)\u001b[0m\u001b[0;34m\u001b[0m\u001b[0;34m\u001b[0m\u001b[0m\n\u001b[0m\u001b[1;32m    585\u001b[0m             \u001b[0mout\u001b[0m \u001b[0;34m=\u001b[0m \u001b[0mX\u001b[0m\u001b[0;34m,\u001b[0m \u001b[0my\u001b[0m\u001b[0;34m\u001b[0m\u001b[0;34m\u001b[0m\u001b[0m\n\u001b[1;32m    586\u001b[0m \u001b[0;34m\u001b[0m\u001b[0m\n",
            "\u001b[0;32m/usr/local/lib/python3.10/dist-packages/sklearn/utils/validation.py\u001b[0m in \u001b[0;36mcheck_X_y\u001b[0;34m(X, y, accept_sparse, accept_large_sparse, dtype, order, copy, force_all_finite, ensure_2d, allow_nd, multi_output, ensure_min_samples, ensure_min_features, y_numeric, estimator)\u001b[0m\n\u001b[1;32m   1104\u001b[0m         )\n\u001b[1;32m   1105\u001b[0m \u001b[0;34m\u001b[0m\u001b[0m\n\u001b[0;32m-> 1106\u001b[0;31m     X = check_array(\n\u001b[0m\u001b[1;32m   1107\u001b[0m         \u001b[0mX\u001b[0m\u001b[0;34m,\u001b[0m\u001b[0;34m\u001b[0m\u001b[0;34m\u001b[0m\u001b[0m\n\u001b[1;32m   1108\u001b[0m         \u001b[0maccept_sparse\u001b[0m\u001b[0;34m=\u001b[0m\u001b[0maccept_sparse\u001b[0m\u001b[0;34m,\u001b[0m\u001b[0;34m\u001b[0m\u001b[0;34m\u001b[0m\u001b[0m\n",
            "\u001b[0;32m/usr/local/lib/python3.10/dist-packages/sklearn/utils/validation.py\u001b[0m in \u001b[0;36mcheck_array\u001b[0;34m(array, accept_sparse, accept_large_sparse, dtype, order, copy, force_all_finite, ensure_2d, allow_nd, ensure_min_samples, ensure_min_features, estimator, input_name)\u001b[0m\n\u001b[1;32m    938\u001b[0m         \u001b[0mn_features\u001b[0m \u001b[0;34m=\u001b[0m \u001b[0marray\u001b[0m\u001b[0;34m.\u001b[0m\u001b[0mshape\u001b[0m\u001b[0;34m[\u001b[0m\u001b[0;36m1\u001b[0m\u001b[0;34m]\u001b[0m\u001b[0;34m\u001b[0m\u001b[0;34m\u001b[0m\u001b[0m\n\u001b[1;32m    939\u001b[0m         \u001b[0;32mif\u001b[0m \u001b[0mn_features\u001b[0m \u001b[0;34m<\u001b[0m \u001b[0mensure_min_features\u001b[0m\u001b[0;34m:\u001b[0m\u001b[0;34m\u001b[0m\u001b[0;34m\u001b[0m\u001b[0m\n\u001b[0;32m--> 940\u001b[0;31m             raise ValueError(\n\u001b[0m\u001b[1;32m    941\u001b[0m                 \u001b[0;34m\"Found array with %d feature(s) (shape=%s) while\"\u001b[0m\u001b[0;34m\u001b[0m\u001b[0;34m\u001b[0m\u001b[0m\n\u001b[1;32m    942\u001b[0m                 \u001b[0;34m\" a minimum of %d is required%s.\"\u001b[0m\u001b[0;34m\u001b[0m\u001b[0;34m\u001b[0m\u001b[0m\n",
            "\u001b[0;31mValueError\u001b[0m: Found array with 0 feature(s) (shape=(4636, 0)) while a minimum of 1 is required by LogisticRegression."
          ]
        }
      ]
    },
    {
      "cell_type": "code",
      "source": [
        "# Compare logistic regression to random forest\n",
        "\n",
        "from sklearn.ensemble import RandomForestClassifier\n",
        "\n",
        "rf = RandomForestClassifier().fit(X_train, y_train)\n",
        "print(classification_report(y_test, rf.predict(X_test)))"
      ],
      "metadata": {
        "id": "QcS94yUdDIqE"
      },
      "execution_count": null,
      "outputs": []
    }
  ]
}